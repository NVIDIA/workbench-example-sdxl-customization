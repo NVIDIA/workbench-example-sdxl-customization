{
 "cells": [
  {
   "cell_type": "markdown",
   "id": "e09c673d",
   "metadata": {},
   "source": [
    "# Fine-Tuning StableDiffusion XL with DreamBooth"
   ]
  },
  {
   "cell_type": "markdown",
   "id": "19aac13c",
   "metadata": {},
   "source": [
    "Over the past few years Generative AI models have popped up everywhere - from creating realistic responses to complex questions, to generating images and music to impress art critics around the globe. In this notebook we use the Hugging Face [Stable Diffusion XL (SDXL)](https://huggingface.co/stabilityai/stable-diffusion-xl-base-1.0) model to create images from text prompts. You'll see how to import the SDXL model and use it to generate an image. \n",
    "\n",
    "From there, you'll see how you can fine-tune the model using [DreamBooth](https://huggingface.co/docs/diffusers/training/dreambooth), a method for easily fine-tuning a text-to-image model. We'll use a small number of photos of [Toy Jensen](https://blogs.nvidia.com/blog/2022/12/22/toy-jensen-jingle-bells/) in this notebook to fine-tune SDXL. This will allow us to generate new images that include Toy Jensen! \n",
    "\n",
    "After that, you'll have the chance to fine-tune the model on your own images. Perhaps you want to create an image of you at the bottom of the ocean, or in outer space? By the end of this notebook you will be able to! \n",
    "\n",
    "**IMPORTANT:** This project will utilize additional third-party open source software. Review the license terms of these open source projects before use. Third party components used as part of this project are subject to their separate legal notices or terms that accompany the components. You are responsible for confirming compliance with third-party component license terms and requirements."
   ]
  },
  {
   "cell_type": "markdown",
   "id": "d0ee02dd",
   "metadata": {},
   "source": [
    "### Stable Diffusion XL Model\n",
    "\n",
    "First, we import the classes and libraries we need to run the notebook."
   ]
  },
  {
   "cell_type": "code",
   "execution_count": null,
   "id": "9ff19a5c",
   "metadata": {},
   "outputs": [],
   "source": [
    "import torch\n",
    "from diffusers import StableDiffusionXLPipeline, DiffusionPipeline"
   ]
  },
  {
   "cell_type": "markdown",
   "id": "33488fe1",
   "metadata": {},
   "source": [
    "Next, from the Hugging Face `diffusers` library, we create a `StableDiffusionXLPipeline` object from the SDXL base model. "
   ]
  },
  {
   "cell_type": "code",
   "execution_count": null,
   "id": "2db6042e",
   "metadata": {
    "scrolled": true
   },
   "outputs": [],
   "source": [
    "pipe = StableDiffusionXLPipeline.from_pretrained(\n",
    "    \"stabilityai/stable-diffusion-xl-base-1.0\", torch_dtype=torch.float16, variant=\"fp16\", use_safetensors=True\n",
    ")\n",
    "pipe.to(\"cuda\")"
   ]
  },
  {
   "cell_type": "markdown",
   "id": "ac0e1a6e",
   "metadata": {},
   "source": [
    "Let's use the SDXL model to generate an image. "
   ]
  },
  {
   "cell_type": "code",
   "execution_count": null,
   "id": "4655c4f7",
   "metadata": {},
   "outputs": [],
   "source": [
    "prompt = \"toy jensen in space\"\n",
    "image = pipe(prompt=prompt).images[0]\n",
    "\n",
    "image"
   ]
  },
  {
   "cell_type": "markdown",
   "id": "72f0dad2",
   "metadata": {},
   "source": [
    "Hmmm, looks like the Hugging Face SDXL model doesn't know about Toy Jensen! Imagine that! \n",
    "\n",
    "✅ Try using the SDXL model to generate some other images by editing the text in the first line of the cell above. \n"
   ]
  },
  {
   "cell_type": "markdown",
   "id": "2d5795a7",
   "metadata": {},
   "source": [
    "## Fine-Tuning the model with DreamBooth\n",
    "\n",
    "Fine-Tuning is used to train an existing Machine Learning Model, given new information. In our case, we want to teach the SDXL model about Toy Jensen. This will allow us to create the perfect image of Toy Jensen in Space!\n",
    "\n",
    "[DreamBooth](https://arxiv.org/abs/2208.12242) provides a way to fine-tune a text-to-image model using only a few images. Let's use this to tune our SDXL Model so that it knows about Toy Jensen!\n",
    "\n",
    "We have 8 photos of Toy Jensen in our dataset - let's take a look at one of them."
   ]
  },
  {
   "cell_type": "code",
   "execution_count": null,
   "id": "c048e134",
   "metadata": {},
   "outputs": [],
   "source": [
    "from IPython.display import Image\n",
    "\n",
    "display(Image(filename='../data/toy-jensen/tj1.png'))"
   ]
  },
  {
   "cell_type": "markdown",
   "id": "1611c557",
   "metadata": {},
   "source": [
    "Now we can use Hugging Face and DreamBooth to fine-tune this model. To do this we create a config, then specify some flags like an instance prompt, a resolution and a number of training steps for the fine-tuning algorithm to run. "
   ]
  },
  {
   "cell_type": "code",
   "execution_count": null,
   "id": "3f7d9ac2",
   "metadata": {},
   "outputs": [],
   "source": [
    "from accelerate.utils import write_basic_config\n",
    "write_basic_config()"
   ]
  },
  {
   "cell_type": "markdown",
   "id": "1611c557",
   "metadata": {},
   "source": [
    "If you have multiple GPU, we can take advantage of Distributed DataParallel (DDP) to speed up the fine-tuning process. You may read further of DDP at https://huggingface.co/docs/transformers/perf_train_gpu_many. "
   ]
  },
  {
   "cell_type": "code",
   "execution_count": null,
   "id": "782e0ee5",
   "metadata": {},
   "outputs": [],
   "source": [
    "!accelerate launch --num_processes=NUMBER_OF_GPUs --multi_gpu /workspace/diffusers/examples/dreambooth/train_dreambooth_lora_sdxl.py \\\n",
    "  --pretrained_model_name_or_path=stabilityai/stable-diffusion-xl-base-1.0  \\\n",
    "  --instance_data_dir=/project/data/toy-jensen \\\n",
    "  --output_dir=/project/models/tuned-toy-jensen \\\n",
    "  --mixed_precision=\"fp16\" \\\n",
    "  --instance_prompt=\"a photo of toy jensen\" \\\n",
    "  --resolution=1024 \\\n",
    "  --train_batch_size=1 \\\n",
    "  --gradient_accumulation_steps=4 \\\n",
    "  --learning_rate=1e-4 \\\n",
    "  --lr_scheduler=\"constant\" \\\n",
    "  --lr_warmup_steps=0 \\\n",
    "  --max_train_steps=100 \\\n",
    "  --seed=\"0\" "
   ]
  },
  {
   "cell_type": "markdown",
   "id": "83aa7268",
   "metadata": {},
   "source": [
    "Now that the model is fine-tuned, let's tell our notebook where to find it."
   ]
  },
  {
   "cell_type": "code",
   "execution_count": null,
   "id": "21f899ea",
   "metadata": {},
   "outputs": [],
   "source": [
    "base_model_id = \"stabilityai/stable-diffusion-xl-base-1.0\"\n",
    "pipe = DiffusionPipeline.from_pretrained(base_model_id, torch_dtype=torch.float16)\n",
    "pipe = pipe.to(\"cuda\")\n",
    "pipe.load_lora_weights(\"/project/models/tuned-toy-jensen\")"
   ]
  },
  {
   "cell_type": "markdown",
   "id": "08b5ee85",
   "metadata": {},
   "source": [
    "Finally, we can use our fine-tuned model to create an image with Toy Jensen in it. Let's give it a go! "
   ]
  },
  {
   "cell_type": "code",
   "execution_count": null,
   "id": "00d3ac0c",
   "metadata": {},
   "outputs": [],
   "source": [
    "image = pipe(\"A picture of toy jensen in space\", num_inference_steps=75).images[0]\n",
    "\n",
    "image"
   ]
  },
  {
   "cell_type": "markdown",
   "id": "3fb09409",
   "metadata": {},
   "source": [
    "Wow - look at him go! "
   ]
  },
  {
   "cell_type": "markdown",
   "id": "b39851c0",
   "metadata": {},
   "source": [
    "### Trying out some more examples\n",
    "\n",
    "\n",
    "The SDXL model we are using was trained on historical data, and knows about everything from celebrities to famous buildings. However, it was trained on data up to a fixed point in time and isn't up to date with things and people who have become famous in the last few months.\n",
    "\n",
    "For example, King Charles III became king of the United Kingdom in September 2022. Let's ask our SDXL Model for an image of King Charles in Space:"
   ]
  },
  {
   "cell_type": "code",
   "execution_count": null,
   "id": "a692804d",
   "metadata": {},
   "outputs": [],
   "source": [
    "prompt = \"King Charles in space\"\n",
    "image = pipe(prompt=prompt).images[0]\n",
    "\n",
    "image"
   ]
  },
  {
   "cell_type": "markdown",
   "id": "1be0a65a",
   "metadata": {},
   "source": [
    "Did it give you an image of a King Charles spaniel? Or maybe King Charles II? That's not what we were hoping for! \n",
    "\n",
    "1. Let's gather some (10ish) images of King Charles III from your favourite search engine. Copy those images into the `data/charles-3/` folder. You can download then to your machine and move them to this folder. \n",
    "\n",
    "    **Reminder:** Third party components used as part of this project are subject to their separate legal notices or terms that accompany the components; you are responsible for reviewing and confirming compliance with third-party component license terms and requirements.\n",
    "2. Run the code below to fine-tune the model on your images of King Charles. "
   ]
  },
  {
   "cell_type": "code",
   "execution_count": null,
   "id": "8bf45d79",
   "metadata": {},
   "outputs": [],
   "source": [
    "# Remove the .gitkeep file in the 'charles-3' folder.\n",
    "!rm ../data/charles-3/.gitkeep"
   ]
  },
  {
   "cell_type": "code",
   "execution_count": null,
   "id": "deb5c7cb",
   "metadata": {},
   "outputs": [],
   "source": [
    "!accelerate launch /workspace/diffusers/examples/dreambooth/train_dreambooth_lora_sdxl.py \\\n",
    "  --pretrained_model_name_or_path=stabilityai/stable-diffusion-xl-base-1.0  \\\n",
    "  --instance_data_dir=/project/data/charles-3 \\\n",
    "  --output_dir=/project/models/tuned-charles-3 \\\n",
    "  --mixed_precision=\"fp16\" \\\n",
    "  --instance_prompt=\"a photo of King Charles\" \\\n",
    "  --resolution=1024 \\\n",
    "  --train_batch_size=1 \\\n",
    "  --gradient_accumulation_steps=4 \\\n",
    "  --learning_rate=1e-4 \\\n",
    "  --lr_scheduler=\"constant\" \\\n",
    "  --lr_warmup_steps=0 \\\n",
    "  --max_train_steps=100 \\\n",
    "  --seed=\"0\" "
   ]
  },
  {
   "cell_type": "markdown",
   "id": "70e68be4",
   "metadata": {},
   "source": [
    "Now we load the model and use it to generate an image of King Charles. "
   ]
  },
  {
   "cell_type": "code",
   "execution_count": null,
   "id": "da82c1b6",
   "metadata": {},
   "outputs": [],
   "source": [
    "base_model_id = \"stabilityai/stable-diffusion-xl-base-1.0\"\n",
    "pipe = DiffusionPipeline.from_pretrained(base_model_id, torch_dtype=torch.float16)\n",
    "pipe = pipe.to(\"cuda\")\n",
    "pipe.load_lora_weights(\"/project/models/tuned-charles-3\")"
   ]
  },
  {
   "cell_type": "code",
   "execution_count": null,
   "id": "fdd059b2",
   "metadata": {},
   "outputs": [],
   "source": [
    "image = pipe(\"A picture of King Charles in space\", num_inference_steps=75).images[0]\n",
    "\n",
    "image"
   ]
  },
  {
   "cell_type": "markdown",
   "id": "9333d426",
   "metadata": {},
   "source": [
    "How is the model performing? Do you need to train it on a few more images? If so, add some more images to the folder then run the cells above to retrain. \n",
    "\n",
    "Now, the model knows what King Charles III looks like and is able to generate realistic images."
   ]
  },
  {
   "cell_type": "markdown",
   "id": "c0436ad5",
   "metadata": {},
   "source": [
    "\n",
    "## Fine-tuning the Model on your own data\n",
    "\n",
    "✅ Why not try out training the SDXL model on your own set of images? Follow the steps below to get set up to train your own model. \n",
    "\n",
    "**Reminder:** Third party components used as part of this project are subject to their separate legal notices or terms that accompany the components; you are responsible for reviewing and confirming compliance with third-party component license terms and requirements.\n",
    "\n",
    "\n",
    "1. You'll need to find around 10 different pictures of your chosen item. Why not find some of your pet or your car? \n",
    "\n",
    "2. Save those images into the `data/my-data` folder we have created for you, similarly to as you have done with the input images of King Charles III.\n",
    "\n",
    "3. Edit the 'instance_prompt' line the code below so that it reflects your item. For example, you could change it to \n",
    "```--instance_prompt=\"a photo of my cat alice\"```\n",
    "\n",
    "4. Once you've updated the prompt, run the cells below to train the model on your data. \n"
   ]
  },
  {
   "cell_type": "code",
   "execution_count": null,
   "id": "751b5fab",
   "metadata": {},
   "outputs": [],
   "source": [
    "# Remove the .gitkeep file in the 'my-data' folder.\n",
    "!rm ../data/my-data/.gitkeep"
   ]
  },
  {
   "cell_type": "code",
   "execution_count": null,
   "id": "1d4daa75",
   "metadata": {},
   "outputs": [],
   "source": [
    "!accelerate launch /workspace/diffusers/examples/dreambooth/train_dreambooth_lora_sdxl.py \\\n",
    "  --pretrained_model_name_or_path=stabilityai/stable-diffusion-xl-base-1.0  \\\n",
    "  --instance_data_dir=/project/data/my-data \\\n",
    "  --output_dir=/project/models/tuned-my-data \\\n",
    "  --mixed_precision=\"fp16\" \\\n",
    "  --instance_prompt=\"a photo of [CHANGE THIS]\" \\\n",
    "  --resolution=1024 \\\n",
    "  --train_batch_size=1 \\\n",
    "  --gradient_accumulation_steps=4 \\\n",
    "  --learning_rate=1e-4 \\\n",
    "  --lr_scheduler=\"constant\" \\\n",
    "  --lr_warmup_steps=0 \\\n",
    "  --max_train_steps=100 "
   ]
  },
  {
   "cell_type": "markdown",
   "id": "7e3c2e7f",
   "metadata": {},
   "source": [
    "Now that your model has been trained we can load it:"
   ]
  },
  {
   "cell_type": "code",
   "execution_count": null,
   "id": "96f2f540",
   "metadata": {},
   "outputs": [],
   "source": [
    "base_model_id = \"stabilityai/stable-diffusion-xl-base-1.0\"\n",
    "pipe = DiffusionPipeline.from_pretrained(base_model_id, torch_dtype=torch.float16)\n",
    "pipe = pipe.to(\"cuda\")\n",
    "pipe.load_lora_weights(\"/project/models/tuned-my-data\")"
   ]
  },
  {
   "cell_type": "markdown",
   "id": "64d1ac18",
   "metadata": {},
   "source": [
    "And finally, use the code below to generate images. Change the prompt to something which includes your item. For example:\n",
    "\n",
    "`image = pipe(\"A picture of my cat alice in space)`. "
   ]
  },
  {
   "cell_type": "code",
   "execution_count": null,
   "id": "fcb50913",
   "metadata": {},
   "outputs": [],
   "source": [
    "image = pipe(\"A picture of [CHANGE THIS] in space\", num_inference_steps=75).images[0]\n",
    "\n",
    "image"
   ]
  },
  {
   "cell_type": "code",
   "execution_count": null,
   "id": "e672d403",
   "metadata": {},
   "outputs": [],
   "source": []
  }
 ],
 "metadata": {
  "kernelspec": {
   "display_name": "Python 3 (ipykernel)",
   "language": "python",
   "name": "python3"
  },
  "language_info": {
   "codemirror_mode": {
    "name": "ipython",
    "version": 3
   },
   "file_extension": ".py",
   "mimetype": "text/x-python",
   "name": "python",
   "nbconvert_exporter": "python",
   "pygments_lexer": "ipython3",
   "version": "3.10.12"
  }
 },
 "nbformat": 4,
 "nbformat_minor": 5
}
